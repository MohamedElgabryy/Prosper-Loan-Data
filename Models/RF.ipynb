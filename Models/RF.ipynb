{
  "nbformat": 4,
  "nbformat_minor": 0,
  "metadata": {
    "colab": {
      "provenance": []
    },
    "kernelspec": {
      "name": "python3",
      "display_name": "Python 3"
    },
    "language_info": {
      "name": "python"
    }
  },
  "cells": [
    {
      "cell_type": "code",
      "execution_count": 2,
      "metadata": {
        "colab": {
          "base_uri": "https://localhost:8080/"
        },
        "id": "45_0UEZb9GRe",
        "outputId": "7e28b146-0035-47e9-f915-5caea3f4fc4f"
      },
      "outputs": [
        {
          "output_type": "stream",
          "name": "stdout",
          "text": [
            "Setup Complete\n"
          ]
        }
      ],
      "source": [
        "import pandas as pd\n",
        "import numpy as np\n",
        "pd.plotting.register_matplotlib_converters()\n",
        "import matplotlib.pyplot as plt\n",
        "%matplotlib inline\n",
        "import seaborn as sns\n",
        "import sklearn\n",
        "print(\"Setup Complete\")"
      ]
    },
    {
      "cell_type": "code",
      "source": [
        "df_path = \"/content/prosper_new.csv\"\n",
        "\n",
        "df = pd.read_csv(df_path)"
      ],
      "metadata": {
        "id": "-gPleyz69Ind"
      },
      "execution_count": 3,
      "outputs": []
    },
    {
      "cell_type": "code",
      "source": [
        "df.head()\n"
      ],
      "metadata": {
        "colab": {
          "base_uri": "https://localhost:8080/",
          "height": 287
        },
        "id": "IBd_CQi69Ofi",
        "outputId": "f6593c7a-9c99-4bf1-e1fc-6d13889c0e86"
      },
      "execution_count": 4,
      "outputs": [
        {
          "output_type": "execute_result",
          "data": {
            "text/plain": [
              "   Unnamed: 0  ListingCategory  BorrowerState  IsBorrowerHomeowner  \\\n",
              "0           1                8              5                    0   \n",
              "1           3               12             10                    1   \n",
              "2           4                8             21                    1   \n",
              "3           5                5             29                    1   \n",
              "4           6                5             15                    0   \n",
              "\n",
              "   IncomeRange  IncomeVerifiable  DebtToIncomeRatio  StatedMonthlyIncome  \\\n",
              "0            4                 1                 18                 6247   \n",
              "1            3                 1                 15                 1955   \n",
              "2            2                 1                 26                 8347   \n",
              "3            2                 1                 36                 7911   \n",
              "4            3                 1                 27                 1000   \n",
              "\n",
              "   Term  ProsperRating  EmploymentStatus  LoanStatus  LoanOriginalAmount  \\\n",
              "0     1              0                 0           1                1104   \n",
              "1     1              0                 0           1                1104   \n",
              "2     1              4                 0           1                1604   \n",
              "3     2              2                 0           1                1604   \n",
              "4     1              5                 0           1                 198   \n",
              "\n",
              "   BorrowerAPR  LoanStatusNew  \n",
              "0          325              0  \n",
              "1          375              0  \n",
              "2         1383              0  \n",
              "3          619              0  \n",
              "4         1870              0  "
            ],
            "text/html": [
              "\n",
              "  <div id=\"df-be74462a-32bf-483f-9719-7535a5e3f0ef\">\n",
              "    <div class=\"colab-df-container\">\n",
              "      <div>\n",
              "<style scoped>\n",
              "    .dataframe tbody tr th:only-of-type {\n",
              "        vertical-align: middle;\n",
              "    }\n",
              "\n",
              "    .dataframe tbody tr th {\n",
              "        vertical-align: top;\n",
              "    }\n",
              "\n",
              "    .dataframe thead th {\n",
              "        text-align: right;\n",
              "    }\n",
              "</style>\n",
              "<table border=\"1\" class=\"dataframe\">\n",
              "  <thead>\n",
              "    <tr style=\"text-align: right;\">\n",
              "      <th></th>\n",
              "      <th>Unnamed: 0</th>\n",
              "      <th>ListingCategory</th>\n",
              "      <th>BorrowerState</th>\n",
              "      <th>IsBorrowerHomeowner</th>\n",
              "      <th>IncomeRange</th>\n",
              "      <th>IncomeVerifiable</th>\n",
              "      <th>DebtToIncomeRatio</th>\n",
              "      <th>StatedMonthlyIncome</th>\n",
              "      <th>Term</th>\n",
              "      <th>ProsperRating</th>\n",
              "      <th>EmploymentStatus</th>\n",
              "      <th>LoanStatus</th>\n",
              "      <th>LoanOriginalAmount</th>\n",
              "      <th>BorrowerAPR</th>\n",
              "      <th>LoanStatusNew</th>\n",
              "    </tr>\n",
              "  </thead>\n",
              "  <tbody>\n",
              "    <tr>\n",
              "      <th>0</th>\n",
              "      <td>1</td>\n",
              "      <td>8</td>\n",
              "      <td>5</td>\n",
              "      <td>0</td>\n",
              "      <td>4</td>\n",
              "      <td>1</td>\n",
              "      <td>18</td>\n",
              "      <td>6247</td>\n",
              "      <td>1</td>\n",
              "      <td>0</td>\n",
              "      <td>0</td>\n",
              "      <td>1</td>\n",
              "      <td>1104</td>\n",
              "      <td>325</td>\n",
              "      <td>0</td>\n",
              "    </tr>\n",
              "    <tr>\n",
              "      <th>1</th>\n",
              "      <td>3</td>\n",
              "      <td>12</td>\n",
              "      <td>10</td>\n",
              "      <td>1</td>\n",
              "      <td>3</td>\n",
              "      <td>1</td>\n",
              "      <td>15</td>\n",
              "      <td>1955</td>\n",
              "      <td>1</td>\n",
              "      <td>0</td>\n",
              "      <td>0</td>\n",
              "      <td>1</td>\n",
              "      <td>1104</td>\n",
              "      <td>375</td>\n",
              "      <td>0</td>\n",
              "    </tr>\n",
              "    <tr>\n",
              "      <th>2</th>\n",
              "      <td>4</td>\n",
              "      <td>8</td>\n",
              "      <td>21</td>\n",
              "      <td>1</td>\n",
              "      <td>2</td>\n",
              "      <td>1</td>\n",
              "      <td>26</td>\n",
              "      <td>8347</td>\n",
              "      <td>1</td>\n",
              "      <td>4</td>\n",
              "      <td>0</td>\n",
              "      <td>1</td>\n",
              "      <td>1604</td>\n",
              "      <td>1383</td>\n",
              "      <td>0</td>\n",
              "    </tr>\n",
              "    <tr>\n",
              "      <th>3</th>\n",
              "      <td>5</td>\n",
              "      <td>5</td>\n",
              "      <td>29</td>\n",
              "      <td>1</td>\n",
              "      <td>2</td>\n",
              "      <td>1</td>\n",
              "      <td>36</td>\n",
              "      <td>7911</td>\n",
              "      <td>2</td>\n",
              "      <td>2</td>\n",
              "      <td>0</td>\n",
              "      <td>1</td>\n",
              "      <td>1604</td>\n",
              "      <td>619</td>\n",
              "      <td>0</td>\n",
              "    </tr>\n",
              "    <tr>\n",
              "      <th>4</th>\n",
              "      <td>6</td>\n",
              "      <td>5</td>\n",
              "      <td>15</td>\n",
              "      <td>0</td>\n",
              "      <td>3</td>\n",
              "      <td>1</td>\n",
              "      <td>27</td>\n",
              "      <td>1000</td>\n",
              "      <td>1</td>\n",
              "      <td>5</td>\n",
              "      <td>0</td>\n",
              "      <td>1</td>\n",
              "      <td>198</td>\n",
              "      <td>1870</td>\n",
              "      <td>0</td>\n",
              "    </tr>\n",
              "  </tbody>\n",
              "</table>\n",
              "</div>\n",
              "      <button class=\"colab-df-convert\" onclick=\"convertToInteractive('df-be74462a-32bf-483f-9719-7535a5e3f0ef')\"\n",
              "              title=\"Convert this dataframe to an interactive table.\"\n",
              "              style=\"display:none;\">\n",
              "        \n",
              "  <svg xmlns=\"http://www.w3.org/2000/svg\" height=\"24px\"viewBox=\"0 0 24 24\"\n",
              "       width=\"24px\">\n",
              "    <path d=\"M0 0h24v24H0V0z\" fill=\"none\"/>\n",
              "    <path d=\"M18.56 5.44l.94 2.06.94-2.06 2.06-.94-2.06-.94-.94-2.06-.94 2.06-2.06.94zm-11 1L8.5 8.5l.94-2.06 2.06-.94-2.06-.94L8.5 2.5l-.94 2.06-2.06.94zm10 10l.94 2.06.94-2.06 2.06-.94-2.06-.94-.94-2.06-.94 2.06-2.06.94z\"/><path d=\"M17.41 7.96l-1.37-1.37c-.4-.4-.92-.59-1.43-.59-.52 0-1.04.2-1.43.59L10.3 9.45l-7.72 7.72c-.78.78-.78 2.05 0 2.83L4 21.41c.39.39.9.59 1.41.59.51 0 1.02-.2 1.41-.59l7.78-7.78 2.81-2.81c.8-.78.8-2.07 0-2.86zM5.41 20L4 18.59l7.72-7.72 1.47 1.35L5.41 20z\"/>\n",
              "  </svg>\n",
              "      </button>\n",
              "      \n",
              "  <style>\n",
              "    .colab-df-container {\n",
              "      display:flex;\n",
              "      flex-wrap:wrap;\n",
              "      gap: 12px;\n",
              "    }\n",
              "\n",
              "    .colab-df-convert {\n",
              "      background-color: #E8F0FE;\n",
              "      border: none;\n",
              "      border-radius: 50%;\n",
              "      cursor: pointer;\n",
              "      display: none;\n",
              "      fill: #1967D2;\n",
              "      height: 32px;\n",
              "      padding: 0 0 0 0;\n",
              "      width: 32px;\n",
              "    }\n",
              "\n",
              "    .colab-df-convert:hover {\n",
              "      background-color: #E2EBFA;\n",
              "      box-shadow: 0px 1px 2px rgba(60, 64, 67, 0.3), 0px 1px 3px 1px rgba(60, 64, 67, 0.15);\n",
              "      fill: #174EA6;\n",
              "    }\n",
              "\n",
              "    [theme=dark] .colab-df-convert {\n",
              "      background-color: #3B4455;\n",
              "      fill: #D2E3FC;\n",
              "    }\n",
              "\n",
              "    [theme=dark] .colab-df-convert:hover {\n",
              "      background-color: #434B5C;\n",
              "      box-shadow: 0px 1px 3px 1px rgba(0, 0, 0, 0.15);\n",
              "      filter: drop-shadow(0px 1px 2px rgba(0, 0, 0, 0.3));\n",
              "      fill: #FFFFFF;\n",
              "    }\n",
              "  </style>\n",
              "\n",
              "      <script>\n",
              "        const buttonEl =\n",
              "          document.querySelector('#df-be74462a-32bf-483f-9719-7535a5e3f0ef button.colab-df-convert');\n",
              "        buttonEl.style.display =\n",
              "          google.colab.kernel.accessAllowed ? 'block' : 'none';\n",
              "\n",
              "        async function convertToInteractive(key) {\n",
              "          const element = document.querySelector('#df-be74462a-32bf-483f-9719-7535a5e3f0ef');\n",
              "          const dataTable =\n",
              "            await google.colab.kernel.invokeFunction('convertToInteractive',\n",
              "                                                     [key], {});\n",
              "          if (!dataTable) return;\n",
              "\n",
              "          const docLinkHtml = 'Like what you see? Visit the ' +\n",
              "            '<a target=\"_blank\" href=https://colab.research.google.com/notebooks/data_table.ipynb>data table notebook</a>'\n",
              "            + ' to learn more about interactive tables.';\n",
              "          element.innerHTML = '';\n",
              "          dataTable['output_type'] = 'display_data';\n",
              "          await google.colab.output.renderOutput(dataTable, element);\n",
              "          const docLink = document.createElement('div');\n",
              "          docLink.innerHTML = docLinkHtml;\n",
              "          element.appendChild(docLink);\n",
              "        }\n",
              "      </script>\n",
              "    </div>\n",
              "  </div>\n",
              "  "
            ]
          },
          "metadata": {},
          "execution_count": 4
        }
      ]
    },
    {
      "cell_type": "code",
      "source": [
        "df.shape\n"
      ],
      "metadata": {
        "colab": {
          "base_uri": "https://localhost:8080/"
        },
        "id": "WpY1L6Pb9SGX",
        "outputId": "af7a2caf-e4e7-4ac4-a932-959cba2a3274"
      },
      "execution_count": 5,
      "outputs": [
        {
          "output_type": "execute_result",
          "data": {
            "text/plain": [
              "(83982, 15)"
            ]
          },
          "metadata": {},
          "execution_count": 5
        }
      ]
    },
    {
      "cell_type": "code",
      "source": [
        "df.info()\n"
      ],
      "metadata": {
        "colab": {
          "base_uri": "https://localhost:8080/"
        },
        "id": "dCAPE6WX9Tfj",
        "outputId": "f2464690-185b-43da-9514-39bed40f95a5"
      },
      "execution_count": 6,
      "outputs": [
        {
          "output_type": "stream",
          "name": "stdout",
          "text": [
            "<class 'pandas.core.frame.DataFrame'>\n",
            "RangeIndex: 83982 entries, 0 to 83981\n",
            "Data columns (total 15 columns):\n",
            " #   Column               Non-Null Count  Dtype\n",
            "---  ------               --------------  -----\n",
            " 0   Unnamed: 0           83982 non-null  int64\n",
            " 1   ListingCategory      83982 non-null  int64\n",
            " 2   BorrowerState        83982 non-null  int64\n",
            " 3   IsBorrowerHomeowner  83982 non-null  int64\n",
            " 4   IncomeRange          83982 non-null  int64\n",
            " 5   IncomeVerifiable     83982 non-null  int64\n",
            " 6   DebtToIncomeRatio    83982 non-null  int64\n",
            " 7   StatedMonthlyIncome  83982 non-null  int64\n",
            " 8   Term                 83982 non-null  int64\n",
            " 9   ProsperRating        83982 non-null  int64\n",
            " 10  EmploymentStatus     83982 non-null  int64\n",
            " 11  LoanStatus           83982 non-null  int64\n",
            " 12  LoanOriginalAmount   83982 non-null  int64\n",
            " 13  BorrowerAPR          83982 non-null  int64\n",
            " 14  LoanStatusNew        83982 non-null  int64\n",
            "dtypes: int64(15)\n",
            "memory usage: 9.6 MB\n"
          ]
        }
      ]
    },
    {
      "cell_type": "code",
      "source": [
        "df.isnull().sum()\n"
      ],
      "metadata": {
        "colab": {
          "base_uri": "https://localhost:8080/"
        },
        "id": "1-KTUkp49VWD",
        "outputId": "d3b6f988-45c1-480e-93f5-ee9cdde06505"
      },
      "execution_count": 7,
      "outputs": [
        {
          "output_type": "execute_result",
          "data": {
            "text/plain": [
              "Unnamed: 0             0\n",
              "ListingCategory        0\n",
              "BorrowerState          0\n",
              "IsBorrowerHomeowner    0\n",
              "IncomeRange            0\n",
              "IncomeVerifiable       0\n",
              "DebtToIncomeRatio      0\n",
              "StatedMonthlyIncome    0\n",
              "Term                   0\n",
              "ProsperRating          0\n",
              "EmploymentStatus       0\n",
              "LoanStatus             0\n",
              "LoanOriginalAmount     0\n",
              "BorrowerAPR            0\n",
              "LoanStatusNew          0\n",
              "dtype: int64"
            ]
          },
          "metadata": {},
          "execution_count": 7
        }
      ]
    },
    {
      "cell_type": "markdown",
      "source": [
        "# **Random Forest for Classification**"
      ],
      "metadata": {
        "id": "e9Aj4Cie9bXz"
      }
    },
    {
      "cell_type": "markdown",
      "source": [
        "**Importing Packages**"
      ],
      "metadata": {
        "id": "TYdCU-lO9kKO"
      }
    },
    {
      "cell_type": "code",
      "source": [
        "# Modelling\n",
        "from sklearn.ensemble import RandomForestClassifier\n",
        "from sklearn.metrics import accuracy_score, confusion_matrix, precision_score, recall_score, ConfusionMatrixDisplay\n",
        "from sklearn.model_selection import RandomizedSearchCV, train_test_split\n",
        "from scipy.stats import randint\n",
        "\n",
        "# Tree Visualisation\n",
        "from sklearn.tree import export_graphviz\n",
        "from IPython.display import Image\n",
        "import graphviz"
      ],
      "metadata": {
        "id": "7j8CHxBd9aBf"
      },
      "execution_count": 8,
      "outputs": []
    },
    {
      "cell_type": "markdown",
      "source": [
        "**Splitting the Data**"
      ],
      "metadata": {
        "id": "bOnLur9k9pQu"
      }
    },
    {
      "cell_type": "code",
      "source": [
        "# Split the data into features (X) and target (y)\n",
        "X = df.drop('ProsperRating',axis = 1)\n",
        "y = df['ProsperRating']\n",
        "\n",
        "# Split the data into training and test sets\n",
        "X_train, X_test, y_train, y_test = train_test_split(X, y, test_size=0.2, random_state=42)"
      ],
      "metadata": {
        "id": "3TiAosxD9xQZ"
      },
      "execution_count": 25,
      "outputs": []
    },
    {
      "cell_type": "code",
      "source": [
        "rf = RandomForestClassifier()\n",
        "rf.fit(X_train, y_train)"
      ],
      "metadata": {
        "colab": {
          "base_uri": "https://localhost:8080/",
          "height": 74
        },
        "id": "j7ZhudUp94Dl",
        "outputId": "4de2363e-2cb2-4c5b-8d0b-d825c16632e0"
      },
      "execution_count": 26,
      "outputs": [
        {
          "output_type": "execute_result",
          "data": {
            "text/plain": [
              "RandomForestClassifier()"
            ],
            "text/html": [
              "<style>#sk-container-id-3 {color: black;background-color: white;}#sk-container-id-3 pre{padding: 0;}#sk-container-id-3 div.sk-toggleable {background-color: white;}#sk-container-id-3 label.sk-toggleable__label {cursor: pointer;display: block;width: 100%;margin-bottom: 0;padding: 0.3em;box-sizing: border-box;text-align: center;}#sk-container-id-3 label.sk-toggleable__label-arrow:before {content: \"▸\";float: left;margin-right: 0.25em;color: #696969;}#sk-container-id-3 label.sk-toggleable__label-arrow:hover:before {color: black;}#sk-container-id-3 div.sk-estimator:hover label.sk-toggleable__label-arrow:before {color: black;}#sk-container-id-3 div.sk-toggleable__content {max-height: 0;max-width: 0;overflow: hidden;text-align: left;background-color: #f0f8ff;}#sk-container-id-3 div.sk-toggleable__content pre {margin: 0.2em;color: black;border-radius: 0.25em;background-color: #f0f8ff;}#sk-container-id-3 input.sk-toggleable__control:checked~div.sk-toggleable__content {max-height: 200px;max-width: 100%;overflow: auto;}#sk-container-id-3 input.sk-toggleable__control:checked~label.sk-toggleable__label-arrow:before {content: \"▾\";}#sk-container-id-3 div.sk-estimator input.sk-toggleable__control:checked~label.sk-toggleable__label {background-color: #d4ebff;}#sk-container-id-3 div.sk-label input.sk-toggleable__control:checked~label.sk-toggleable__label {background-color: #d4ebff;}#sk-container-id-3 input.sk-hidden--visually {border: 0;clip: rect(1px 1px 1px 1px);clip: rect(1px, 1px, 1px, 1px);height: 1px;margin: -1px;overflow: hidden;padding: 0;position: absolute;width: 1px;}#sk-container-id-3 div.sk-estimator {font-family: monospace;background-color: #f0f8ff;border: 1px dotted black;border-radius: 0.25em;box-sizing: border-box;margin-bottom: 0.5em;}#sk-container-id-3 div.sk-estimator:hover {background-color: #d4ebff;}#sk-container-id-3 div.sk-parallel-item::after {content: \"\";width: 100%;border-bottom: 1px solid gray;flex-grow: 1;}#sk-container-id-3 div.sk-label:hover label.sk-toggleable__label {background-color: #d4ebff;}#sk-container-id-3 div.sk-serial::before {content: \"\";position: absolute;border-left: 1px solid gray;box-sizing: border-box;top: 0;bottom: 0;left: 50%;z-index: 0;}#sk-container-id-3 div.sk-serial {display: flex;flex-direction: column;align-items: center;background-color: white;padding-right: 0.2em;padding-left: 0.2em;position: relative;}#sk-container-id-3 div.sk-item {position: relative;z-index: 1;}#sk-container-id-3 div.sk-parallel {display: flex;align-items: stretch;justify-content: center;background-color: white;position: relative;}#sk-container-id-3 div.sk-item::before, #sk-container-id-3 div.sk-parallel-item::before {content: \"\";position: absolute;border-left: 1px solid gray;box-sizing: border-box;top: 0;bottom: 0;left: 50%;z-index: -1;}#sk-container-id-3 div.sk-parallel-item {display: flex;flex-direction: column;z-index: 1;position: relative;background-color: white;}#sk-container-id-3 div.sk-parallel-item:first-child::after {align-self: flex-end;width: 50%;}#sk-container-id-3 div.sk-parallel-item:last-child::after {align-self: flex-start;width: 50%;}#sk-container-id-3 div.sk-parallel-item:only-child::after {width: 0;}#sk-container-id-3 div.sk-dashed-wrapped {border: 1px dashed gray;margin: 0 0.4em 0.5em 0.4em;box-sizing: border-box;padding-bottom: 0.4em;background-color: white;}#sk-container-id-3 div.sk-label label {font-family: monospace;font-weight: bold;display: inline-block;line-height: 1.2em;}#sk-container-id-3 div.sk-label-container {text-align: center;}#sk-container-id-3 div.sk-container {/* jupyter's `normalize.less` sets `[hidden] { display: none; }` but bootstrap.min.css set `[hidden] { display: none !important; }` so we also need the `!important` here to be able to override the default hidden behavior on the sphinx rendered scikit-learn.org. See: https://github.com/scikit-learn/scikit-learn/issues/21755 */display: inline-block !important;position: relative;}#sk-container-id-3 div.sk-text-repr-fallback {display: none;}</style><div id=\"sk-container-id-3\" class=\"sk-top-container\"><div class=\"sk-text-repr-fallback\"><pre>RandomForestClassifier()</pre><b>In a Jupyter environment, please rerun this cell to show the HTML representation or trust the notebook. <br />On GitHub, the HTML representation is unable to render, please try loading this page with nbviewer.org.</b></div><div class=\"sk-container\" hidden><div class=\"sk-item\"><div class=\"sk-estimator sk-toggleable\"><input class=\"sk-toggleable__control sk-hidden--visually\" id=\"sk-estimator-id-5\" type=\"checkbox\" checked><label for=\"sk-estimator-id-5\" class=\"sk-toggleable__label sk-toggleable__label-arrow\">RandomForestClassifier</label><div class=\"sk-toggleable__content\"><pre>RandomForestClassifier()</pre></div></div></div></div></div>"
            ]
          },
          "metadata": {},
          "execution_count": 26
        }
      ]
    },
    {
      "cell_type": "code",
      "source": [
        "y_pred = rf.predict(X_test)"
      ],
      "metadata": {
        "id": "IDtkloVZ977a"
      },
      "execution_count": 27,
      "outputs": []
    },
    {
      "cell_type": "code",
      "source": [
        "accuracy = accuracy_score(y_test, y_pred)\n",
        "print(\"Accuracy:\", accuracy)"
      ],
      "metadata": {
        "colab": {
          "base_uri": "https://localhost:8080/"
        },
        "id": "HYmhekN799sE",
        "outputId": "36670ac5-6804-4df1-c282-63e52f695b1b"
      },
      "execution_count": 28,
      "outputs": [
        {
          "output_type": "stream",
          "name": "stdout",
          "text": [
            "Accuracy: 0.8855152705840329\n"
          ]
        }
      ]
    },
    {
      "cell_type": "code",
      "source": [
        "# Export the first three decision trees from the forest\n",
        "\n",
        "for i in range(3):\n",
        "    tree = rf.estimators_[i]\n",
        "    dot_data = export_graphviz(tree,\n",
        "                               feature_names=X_train.columns,  \n",
        "                               filled=True,  \n",
        "                               max_depth=2, \n",
        "                               impurity=False, \n",
        "                               proportion=True)\n",
        "    graph = graphviz.Source(dot_data)\n",
        "    display(graph)"
      ],
      "metadata": {
        "colab": {
          "base_uri": "https://localhost:8080/",
          "height": 1000
        },
        "id": "dTR-jYmo9_rD",
        "outputId": "05187b89-8f1b-4171-e190-55f40b95d078"
      },
      "execution_count": 29,
      "outputs": [
        {
          "output_type": "display_data",
          "data": {
            "text/plain": [
              "<graphviz.files.Source at 0x7ffb6aeadb50>"
            ],
            "image/svg+xml": "<?xml version=\"1.0\" encoding=\"UTF-8\" standalone=\"no\"?>\n<!DOCTYPE svg PUBLIC \"-//W3C//DTD SVG 1.1//EN\"\n \"http://www.w3.org/Graphics/SVG/1.1/DTD/svg11.dtd\">\n<!-- Generated by graphviz version 2.43.0 (0)\n -->\n<!-- Title: Tree Pages: 1 -->\n<svg width=\"1447pt\" height=\"311pt\"\n viewBox=\"0.00 0.00 1447.00 311.00\" xmlns=\"http://www.w3.org/2000/svg\" xmlns:xlink=\"http://www.w3.org/1999/xlink\">\n<g id=\"graph0\" class=\"graph\" transform=\"scale(1 1) rotate(0) translate(4 307)\">\n<title>Tree</title>\n<polygon fill=\"white\" stroke=\"transparent\" points=\"-4,4 -4,-307 1443,-307 1443,4 -4,4\"/>\n<!-- 0 -->\n<g id=\"node1\" class=\"node\">\n<title>0</title>\n<polygon fill=\"#f7fefe\" stroke=\"black\" points=\"897.5,-303 544.5,-303 544.5,-250 897.5,-250 897.5,-303\"/>\n<text text-anchor=\"middle\" x=\"721\" y=\"-287.8\" font-family=\"Helvetica,sans-Serif\" font-size=\"14.00\">DebtToIncomeRatio &lt;= 35.5</text>\n<text text-anchor=\"middle\" x=\"721\" y=\"-272.8\" font-family=\"Helvetica,sans-Serif\" font-size=\"14.00\">samples = 100.0%</text>\n<text text-anchor=\"middle\" x=\"721\" y=\"-257.8\" font-family=\"Helvetica,sans-Serif\" font-size=\"14.00\">value = [0.169, 0.063, 0.183, 0.216, 0.169, 0.116, 0.084]</text>\n</g>\n<!-- 1 -->\n<g id=\"node2\" class=\"node\">\n<title>1</title>\n<polygon fill=\"#feffff\" stroke=\"black\" points=\"712.5,-214 359.5,-214 359.5,-161 712.5,-161 712.5,-214\"/>\n<text text-anchor=\"middle\" x=\"536\" y=\"-198.8\" font-family=\"Helvetica,sans-Serif\" font-size=\"14.00\">LoanOriginalAmount &lt;= 401.5</text>\n<text text-anchor=\"middle\" x=\"536\" y=\"-183.8\" font-family=\"Helvetica,sans-Serif\" font-size=\"14.00\">samples = 75.1%</text>\n<text text-anchor=\"middle\" x=\"536\" y=\"-168.8\" font-family=\"Helvetica,sans-Serif\" font-size=\"14.00\">value = [0.195, 0.078, 0.201, 0.204, 0.157, 0.103, 0.062]</text>\n</g>\n<!-- 0&#45;&gt;1 -->\n<g id=\"edge1\" class=\"edge\">\n<title>0&#45;&gt;1</title>\n<path fill=\"none\" stroke=\"black\" d=\"M666.49,-249.87C645.51,-240 621.37,-228.65 599.6,-218.41\"/>\n<polygon fill=\"black\" stroke=\"black\" points=\"600.97,-215.19 590.44,-214.1 598,-221.52 600.97,-215.19\"/>\n<text text-anchor=\"middle\" x=\"598.91\" y=\"-233.92\" font-family=\"Helvetica,sans-Serif\" font-size=\"14.00\">True</text>\n</g>\n<!-- 16036 -->\n<g id=\"node9\" class=\"node\">\n<title>16036</title>\n<polygon fill=\"#f3fdfd\" stroke=\"black\" points=\"1083.5,-214 730.5,-214 730.5,-161 1083.5,-161 1083.5,-214\"/>\n<text text-anchor=\"middle\" x=\"907\" y=\"-198.8\" font-family=\"Helvetica,sans-Serif\" font-size=\"14.00\">Term &lt;= 1.5</text>\n<text text-anchor=\"middle\" x=\"907\" y=\"-183.8\" font-family=\"Helvetica,sans-Serif\" font-size=\"14.00\">samples = 24.9%</text>\n<text text-anchor=\"middle\" x=\"907\" y=\"-168.8\" font-family=\"Helvetica,sans-Serif\" font-size=\"14.00\">value = [0.092, 0.016, 0.129, 0.253, 0.205, 0.157, 0.149]</text>\n</g>\n<!-- 0&#45;&gt;16036 -->\n<g id=\"edge8\" class=\"edge\">\n<title>0&#45;&gt;16036</title>\n<path fill=\"none\" stroke=\"black\" d=\"M775.55,-249.98C796.75,-240.07 821.18,-228.64 843.19,-218.35\"/>\n<polygon fill=\"black\" stroke=\"black\" points=\"844.88,-221.42 852.45,-214.01 841.91,-215.08 844.88,-221.42\"/>\n<text text-anchor=\"middle\" x=\"843.93\" y=\"-233.82\" font-family=\"Helvetica,sans-Serif\" font-size=\"14.00\">False</text>\n</g>\n<!-- 2 -->\n<g id=\"node3\" class=\"node\">\n<title>2</title>\n<polygon fill=\"#f9f1fd\" stroke=\"black\" points=\"346,-125 0,-125 0,-72 346,-72 346,-125\"/>\n<text text-anchor=\"middle\" x=\"173\" y=\"-109.8\" font-family=\"Helvetica,sans-Serif\" font-size=\"14.00\">BorrowerAPR &lt;= 1811.5</text>\n<text text-anchor=\"middle\" x=\"173\" y=\"-94.8\" font-family=\"Helvetica,sans-Serif\" font-size=\"14.00\">samples = 23.4%</text>\n<text text-anchor=\"middle\" x=\"173\" y=\"-79.8\" font-family=\"Helvetica,sans-Serif\" font-size=\"14.00\">value = [0.096, 0.043, 0.111, 0.135, 0.174, 0.25, 0.192]</text>\n</g>\n<!-- 1&#45;&gt;2 -->\n<g id=\"edge2\" class=\"edge\">\n<title>1&#45;&gt;2</title>\n<path fill=\"none\" stroke=\"black\" d=\"M429.54,-160.98C385.49,-150.43 334.29,-138.16 289.26,-127.36\"/>\n<polygon fill=\"black\" stroke=\"black\" points=\"290,-123.94 279.46,-125.01 288.37,-130.75 290,-123.94\"/>\n</g>\n<!-- 5779 -->\n<g id=\"node6\" class=\"node\">\n<title>5779</title>\n<polygon fill=\"#ffffff\" stroke=\"black\" points=\"710,-125 364,-125 364,-72 710,-72 710,-125\"/>\n<text text-anchor=\"middle\" x=\"537\" y=\"-109.8\" font-family=\"Helvetica,sans-Serif\" font-size=\"14.00\">BorrowerAPR &lt;= 684.5</text>\n<text text-anchor=\"middle\" x=\"537\" y=\"-94.8\" font-family=\"Helvetica,sans-Serif\" font-size=\"14.00\">samples = 51.7%</text>\n<text text-anchor=\"middle\" x=\"537\" y=\"-79.8\" font-family=\"Helvetica,sans-Serif\" font-size=\"14.00\">value = [0.24, 0.094, 0.242, 0.235, 0.149, 0.036, 0.003]</text>\n</g>\n<!-- 1&#45;&gt;5779 -->\n<g id=\"edge5\" class=\"edge\">\n<title>1&#45;&gt;5779</title>\n<path fill=\"none\" stroke=\"black\" d=\"M536.29,-160.87C536.39,-152.89 536.49,-143.93 536.59,-135.38\"/>\n<polygon fill=\"black\" stroke=\"black\" points=\"540.09,-135.29 536.7,-125.25 533.09,-135.21 540.09,-135.29\"/>\n</g>\n<!-- 3 -->\n<g id=\"node4\" class=\"node\">\n<title>3</title>\n<polygon fill=\"#c0c0c0\" stroke=\"black\" points=\"164,-36 110,-36 110,0 164,0 164,-36\"/>\n<text text-anchor=\"middle\" x=\"137\" y=\"-14.3\" font-family=\"Helvetica,sans-Serif\" font-size=\"14.00\">(...)</text>\n</g>\n<!-- 2&#45;&gt;3 -->\n<g id=\"edge3\" class=\"edge\">\n<title>2&#45;&gt;3</title>\n<path fill=\"none\" stroke=\"black\" d=\"M161.21,-71.8C157.34,-63.35 153.03,-53.95 149.13,-45.45\"/>\n<polygon fill=\"black\" stroke=\"black\" points=\"152.3,-43.96 144.95,-36.33 145.93,-46.88 152.3,-43.96\"/>\n</g>\n<!-- 3742 -->\n<g id=\"node5\" class=\"node\">\n<title>3742</title>\n<polygon fill=\"#c0c0c0\" stroke=\"black\" points=\"236,-36 182,-36 182,0 236,0 236,-36\"/>\n<text text-anchor=\"middle\" x=\"209\" y=\"-14.3\" font-family=\"Helvetica,sans-Serif\" font-size=\"14.00\">(...)</text>\n</g>\n<!-- 2&#45;&gt;3742 -->\n<g id=\"edge4\" class=\"edge\">\n<title>2&#45;&gt;3742</title>\n<path fill=\"none\" stroke=\"black\" d=\"M184.79,-71.8C188.66,-63.35 192.97,-53.95 196.87,-45.45\"/>\n<polygon fill=\"black\" stroke=\"black\" points=\"200.07,-46.88 201.05,-36.33 193.7,-43.96 200.07,-46.88\"/>\n</g>\n<!-- 5780 -->\n<g id=\"node7\" class=\"node\">\n<title>5780</title>\n<polygon fill=\"#c0c0c0\" stroke=\"black\" points=\"528,-36 474,-36 474,0 528,0 528,-36\"/>\n<text text-anchor=\"middle\" x=\"501\" y=\"-14.3\" font-family=\"Helvetica,sans-Serif\" font-size=\"14.00\">(...)</text>\n</g>\n<!-- 5779&#45;&gt;5780 -->\n<g id=\"edge6\" class=\"edge\">\n<title>5779&#45;&gt;5780</title>\n<path fill=\"none\" stroke=\"black\" d=\"M525.21,-71.8C521.34,-63.35 517.03,-53.95 513.13,-45.45\"/>\n<polygon fill=\"black\" stroke=\"black\" points=\"516.3,-43.96 508.95,-36.33 509.93,-46.88 516.3,-43.96\"/>\n</g>\n<!-- 7605 -->\n<g id=\"node8\" class=\"node\">\n<title>7605</title>\n<polygon fill=\"#c0c0c0\" stroke=\"black\" points=\"600,-36 546,-36 546,0 600,0 600,-36\"/>\n<text text-anchor=\"middle\" x=\"573\" y=\"-14.3\" font-family=\"Helvetica,sans-Serif\" font-size=\"14.00\">(...)</text>\n</g>\n<!-- 5779&#45;&gt;7605 -->\n<g id=\"edge7\" class=\"edge\">\n<title>5779&#45;&gt;7605</title>\n<path fill=\"none\" stroke=\"black\" d=\"M548.79,-71.8C552.66,-63.35 556.97,-53.95 560.87,-45.45\"/>\n<polygon fill=\"black\" stroke=\"black\" points=\"564.07,-46.88 565.05,-36.33 557.7,-43.96 564.07,-46.88\"/>\n</g>\n<!-- 16037 -->\n<g id=\"node10\" class=\"node\">\n<title>16037</title>\n<polygon fill=\"#fcffff\" stroke=\"black\" points=\"1082.5,-125 729.5,-125 729.5,-72 1082.5,-72 1082.5,-125\"/>\n<text text-anchor=\"middle\" x=\"906\" y=\"-109.8\" font-family=\"Helvetica,sans-Serif\" font-size=\"14.00\">ListingCategory &lt;= 5.5</text>\n<text text-anchor=\"middle\" x=\"906\" y=\"-94.8\" font-family=\"Helvetica,sans-Serif\" font-size=\"14.00\">samples = 18.7%</text>\n<text text-anchor=\"middle\" x=\"906\" y=\"-79.8\" font-family=\"Helvetica,sans-Serif\" font-size=\"14.00\">value = [0.098, 0.019, 0.116, 0.211, 0.191, 0.165, 0.199]</text>\n</g>\n<!-- 16036&#45;&gt;16037 -->\n<g id=\"edge9\" class=\"edge\">\n<title>16036&#45;&gt;16037</title>\n<path fill=\"none\" stroke=\"black\" d=\"M906.71,-160.87C906.61,-152.89 906.51,-143.93 906.41,-135.38\"/>\n<polygon fill=\"black\" stroke=\"black\" points=\"909.91,-135.21 906.3,-125.25 902.91,-135.29 909.91,-135.21\"/>\n</g>\n<!-- 21142 -->\n<g id=\"node13\" class=\"node\">\n<title>21142</title>\n<polygon fill=\"#ddfafa\" stroke=\"black\" points=\"1439,-125 1101,-125 1101,-72 1439,-72 1439,-125\"/>\n<text text-anchor=\"middle\" x=\"1270\" y=\"-109.8\" font-family=\"Helvetica,sans-Serif\" font-size=\"14.00\">IncomeRange &lt;= 3.5</text>\n<text text-anchor=\"middle\" x=\"1270\" y=\"-94.8\" font-family=\"Helvetica,sans-Serif\" font-size=\"14.00\">samples = 6.2%</text>\n<text text-anchor=\"middle\" x=\"1270\" y=\"-79.8\" font-family=\"Helvetica,sans-Serif\" font-size=\"14.00\">value = [0.072, 0.007, 0.164, 0.378, 0.247, 0.132, 0.0]</text>\n</g>\n<!-- 16036&#45;&gt;21142 -->\n<g id=\"edge12\" class=\"edge\">\n<title>16036&#45;&gt;21142</title>\n<path fill=\"none\" stroke=\"black\" d=\"M1013.46,-160.98C1057.51,-150.43 1108.71,-138.16 1153.74,-127.36\"/>\n<polygon fill=\"black\" stroke=\"black\" points=\"1154.63,-130.75 1163.54,-125.01 1153,-123.94 1154.63,-130.75\"/>\n</g>\n<!-- 16038 -->\n<g id=\"node11\" class=\"node\">\n<title>16038</title>\n<polygon fill=\"#c0c0c0\" stroke=\"black\" points=\"897,-36 843,-36 843,0 897,0 897,-36\"/>\n<text text-anchor=\"middle\" x=\"870\" y=\"-14.3\" font-family=\"Helvetica,sans-Serif\" font-size=\"14.00\">(...)</text>\n</g>\n<!-- 16037&#45;&gt;16038 -->\n<g id=\"edge10\" class=\"edge\">\n<title>16037&#45;&gt;16038</title>\n<path fill=\"none\" stroke=\"black\" d=\"M894.21,-71.8C890.34,-63.35 886.03,-53.95 882.13,-45.45\"/>\n<polygon fill=\"black\" stroke=\"black\" points=\"885.3,-43.96 877.95,-36.33 878.93,-46.88 885.3,-43.96\"/>\n</g>\n<!-- 19449 -->\n<g id=\"node12\" class=\"node\">\n<title>19449</title>\n<polygon fill=\"#c0c0c0\" stroke=\"black\" points=\"969,-36 915,-36 915,0 969,0 969,-36\"/>\n<text text-anchor=\"middle\" x=\"942\" y=\"-14.3\" font-family=\"Helvetica,sans-Serif\" font-size=\"14.00\">(...)</text>\n</g>\n<!-- 16037&#45;&gt;19449 -->\n<g id=\"edge11\" class=\"edge\">\n<title>16037&#45;&gt;19449</title>\n<path fill=\"none\" stroke=\"black\" d=\"M917.79,-71.8C921.66,-63.35 925.97,-53.95 929.87,-45.45\"/>\n<polygon fill=\"black\" stroke=\"black\" points=\"933.07,-46.88 934.05,-36.33 926.7,-43.96 933.07,-46.88\"/>\n</g>\n<!-- 21143 -->\n<g id=\"node14\" class=\"node\">\n<title>21143</title>\n<polygon fill=\"#c0c0c0\" stroke=\"black\" points=\"1261,-36 1207,-36 1207,0 1261,0 1261,-36\"/>\n<text text-anchor=\"middle\" x=\"1234\" y=\"-14.3\" font-family=\"Helvetica,sans-Serif\" font-size=\"14.00\">(...)</text>\n</g>\n<!-- 21142&#45;&gt;21143 -->\n<g id=\"edge13\" class=\"edge\">\n<title>21142&#45;&gt;21143</title>\n<path fill=\"none\" stroke=\"black\" d=\"M1258.21,-71.8C1254.34,-63.35 1250.03,-53.95 1246.13,-45.45\"/>\n<polygon fill=\"black\" stroke=\"black\" points=\"1249.3,-43.96 1241.95,-36.33 1242.93,-46.88 1249.3,-43.96\"/>\n</g>\n<!-- 22256 -->\n<g id=\"node15\" class=\"node\">\n<title>22256</title>\n<polygon fill=\"#c0c0c0\" stroke=\"black\" points=\"1333,-36 1279,-36 1279,0 1333,0 1333,-36\"/>\n<text text-anchor=\"middle\" x=\"1306\" y=\"-14.3\" font-family=\"Helvetica,sans-Serif\" font-size=\"14.00\">(...)</text>\n</g>\n<!-- 21142&#45;&gt;22256 -->\n<g id=\"edge14\" class=\"edge\">\n<title>21142&#45;&gt;22256</title>\n<path fill=\"none\" stroke=\"black\" d=\"M1281.79,-71.8C1285.66,-63.35 1289.97,-53.95 1293.87,-45.45\"/>\n<polygon fill=\"black\" stroke=\"black\" points=\"1297.07,-46.88 1298.05,-36.33 1290.7,-43.96 1297.07,-46.88\"/>\n</g>\n</g>\n</svg>\n"
          },
          "metadata": {}
        },
        {
          "output_type": "display_data",
          "data": {
            "text/plain": [
              "<graphviz.files.Source at 0x7ffb6aeadf40>"
            ],
            "image/svg+xml": "<?xml version=\"1.0\" encoding=\"UTF-8\" standalone=\"no\"?>\n<!DOCTYPE svg PUBLIC \"-//W3C//DTD SVG 1.1//EN\"\n \"http://www.w3.org/Graphics/SVG/1.1/DTD/svg11.dtd\">\n<!-- Generated by graphviz version 2.43.0 (0)\n -->\n<!-- Title: Tree Pages: 1 -->\n<svg width=\"1391pt\" height=\"311pt\"\n viewBox=\"0.00 0.00 1391.00 311.00\" xmlns=\"http://www.w3.org/2000/svg\" xmlns:xlink=\"http://www.w3.org/1999/xlink\">\n<g id=\"graph0\" class=\"graph\" transform=\"scale(1 1) rotate(0) translate(4 307)\">\n<title>Tree</title>\n<polygon fill=\"white\" stroke=\"transparent\" points=\"-4,4 -4,-307 1387,-307 1387,4 -4,4\"/>\n<!-- 0 -->\n<g id=\"node1\" class=\"node\">\n<title>0</title>\n<polygon fill=\"#f6fefe\" stroke=\"black\" points=\"882.5,-303 529.5,-303 529.5,-250 882.5,-250 882.5,-303\"/>\n<text text-anchor=\"middle\" x=\"706\" y=\"-287.8\" font-family=\"Helvetica,sans-Serif\" font-size=\"14.00\">LoanOriginalAmount &lt;= 401.5</text>\n<text text-anchor=\"middle\" x=\"706\" y=\"-272.8\" font-family=\"Helvetica,sans-Serif\" font-size=\"14.00\">samples = 100.0%</text>\n<text text-anchor=\"middle\" x=\"706\" y=\"-257.8\" font-family=\"Helvetica,sans-Serif\" font-size=\"14.00\">value = [0.172, 0.065, 0.181, 0.217, 0.167, 0.115, 0.084]</text>\n</g>\n<!-- 1 -->\n<g id=\"node2\" class=\"node\">\n<title>1</title>\n<polygon fill=\"#fffeff\" stroke=\"black\" points=\"699,-214 353,-214 353,-161 699,-161 699,-214\"/>\n<text text-anchor=\"middle\" x=\"526\" y=\"-198.8\" font-family=\"Helvetica,sans-Serif\" font-size=\"14.00\">Term &lt;= 1.5</text>\n<text text-anchor=\"middle\" x=\"526\" y=\"-183.8\" font-family=\"Helvetica,sans-Serif\" font-size=\"14.00\">samples = 33.3%</text>\n<text text-anchor=\"middle\" x=\"526\" y=\"-168.8\" font-family=\"Helvetica,sans-Serif\" font-size=\"14.00\">value = [0.083, 0.035, 0.088, 0.13, 0.177, 0.245, 0.243]</text>\n</g>\n<!-- 0&#45;&gt;1 -->\n<g id=\"edge1\" class=\"edge\">\n<title>0&#45;&gt;1</title>\n<path fill=\"none\" stroke=\"black\" d=\"M652.97,-249.87C632.64,-240.04 609.27,-228.75 588.17,-218.55\"/>\n<polygon fill=\"black\" stroke=\"black\" points=\"589.49,-215.3 578.96,-214.1 586.44,-221.6 589.49,-215.3\"/>\n<text text-anchor=\"middle\" x=\"587.19\" y=\"-234.01\" font-family=\"Helvetica,sans-Serif\" font-size=\"14.00\">True</text>\n</g>\n<!-- 8836 -->\n<g id=\"node9\" class=\"node\">\n<title>8836</title>\n<polygon fill=\"#f7fefe\" stroke=\"black\" points=\"1055,-214 717,-214 717,-161 1055,-161 1055,-214\"/>\n<text text-anchor=\"middle\" x=\"886\" y=\"-198.8\" font-family=\"Helvetica,sans-Serif\" font-size=\"14.00\">BorrowerAPR &lt;= 684.5</text>\n<text text-anchor=\"middle\" x=\"886\" y=\"-183.8\" font-family=\"Helvetica,sans-Serif\" font-size=\"14.00\">samples = 66.7%</text>\n<text text-anchor=\"middle\" x=\"886\" y=\"-168.8\" font-family=\"Helvetica,sans-Serif\" font-size=\"14.00\">value = [0.216, 0.08, 0.227, 0.26, 0.161, 0.051, 0.005]</text>\n</g>\n<!-- 0&#45;&gt;8836 -->\n<g id=\"edge8\" class=\"edge\">\n<title>0&#45;&gt;8836</title>\n<path fill=\"none\" stroke=\"black\" d=\"M759.03,-249.87C779.36,-240.04 802.73,-228.75 823.83,-218.55\"/>\n<polygon fill=\"black\" stroke=\"black\" points=\"825.56,-221.6 833.04,-214.1 822.51,-215.3 825.56,-221.6\"/>\n<text text-anchor=\"middle\" x=\"824.81\" y=\"-234.01\" font-family=\"Helvetica,sans-Serif\" font-size=\"14.00\">False</text>\n</g>\n<!-- 2 -->\n<g id=\"node3\" class=\"node\">\n<title>2</title>\n<polygon fill=\"#fdf2f7\" stroke=\"black\" points=\"346,-125 0,-125 0,-72 346,-72 346,-125\"/>\n<text text-anchor=\"middle\" x=\"173\" y=\"-109.8\" font-family=\"Helvetica,sans-Serif\" font-size=\"14.00\">LoanStatusNew &lt;= 0.5</text>\n<text text-anchor=\"middle\" x=\"173\" y=\"-94.8\" font-family=\"Helvetica,sans-Serif\" font-size=\"14.00\">samples = 29.7%</text>\n<text text-anchor=\"middle\" x=\"173\" y=\"-79.8\" font-family=\"Helvetica,sans-Serif\" font-size=\"14.00\">value = [0.087, 0.038, 0.087, 0.124, 0.172, 0.22, 0.272]</text>\n</g>\n<!-- 1&#45;&gt;2 -->\n<g id=\"edge2\" class=\"edge\">\n<title>1&#45;&gt;2</title>\n<path fill=\"none\" stroke=\"black\" d=\"M422.47,-160.98C379.73,-150.45 330.05,-138.21 286.34,-127.43\"/>\n<polygon fill=\"black\" stroke=\"black\" points=\"287.07,-124.01 276.52,-125.01 285.4,-130.81 287.07,-124.01\"/>\n</g>\n<!-- 7887 -->\n<g id=\"node6\" class=\"node\">\n<title>7887</title>\n<polygon fill=\"#e8c5f7\" stroke=\"black\" points=\"702,-125 364,-125 364,-72 702,-72 702,-125\"/>\n<text text-anchor=\"middle\" x=\"533\" y=\"-109.8\" font-family=\"Helvetica,sans-Serif\" font-size=\"14.00\">LoanOriginalAmount &lt;= 306.5</text>\n<text text-anchor=\"middle\" x=\"533\" y=\"-94.8\" font-family=\"Helvetica,sans-Serif\" font-size=\"14.00\">samples = 3.5%</text>\n<text text-anchor=\"middle\" x=\"533\" y=\"-79.8\" font-family=\"Helvetica,sans-Serif\" font-size=\"14.00\">value = [0.046, 0.007, 0.094, 0.175, 0.226, 0.452, 0.0]</text>\n</g>\n<!-- 1&#45;&gt;7887 -->\n<g id=\"edge5\" class=\"edge\">\n<title>1&#45;&gt;7887</title>\n<path fill=\"none\" stroke=\"black\" d=\"M528.06,-160.87C528.7,-152.89 529.43,-143.93 530.11,-135.38\"/>\n<polygon fill=\"black\" stroke=\"black\" points=\"533.61,-135.5 530.93,-125.25 526.64,-134.94 533.61,-135.5\"/>\n</g>\n<!-- 3 -->\n<g id=\"node4\" class=\"node\">\n<title>3</title>\n<polygon fill=\"#c0c0c0\" stroke=\"black\" points=\"164,-36 110,-36 110,0 164,0 164,-36\"/>\n<text text-anchor=\"middle\" x=\"137\" y=\"-14.3\" font-family=\"Helvetica,sans-Serif\" font-size=\"14.00\">(...)</text>\n</g>\n<!-- 2&#45;&gt;3 -->\n<g id=\"edge3\" class=\"edge\">\n<title>2&#45;&gt;3</title>\n<path fill=\"none\" stroke=\"black\" d=\"M161.21,-71.8C157.34,-63.35 153.03,-53.95 149.13,-45.45\"/>\n<polygon fill=\"black\" stroke=\"black\" points=\"152.3,-43.96 144.95,-36.33 145.93,-46.88 152.3,-43.96\"/>\n</g>\n<!-- 6858 -->\n<g id=\"node5\" class=\"node\">\n<title>6858</title>\n<polygon fill=\"#c0c0c0\" stroke=\"black\" points=\"236,-36 182,-36 182,0 236,0 236,-36\"/>\n<text text-anchor=\"middle\" x=\"209\" y=\"-14.3\" font-family=\"Helvetica,sans-Serif\" font-size=\"14.00\">(...)</text>\n</g>\n<!-- 2&#45;&gt;6858 -->\n<g id=\"edge4\" class=\"edge\">\n<title>2&#45;&gt;6858</title>\n<path fill=\"none\" stroke=\"black\" d=\"M184.79,-71.8C188.66,-63.35 192.97,-53.95 196.87,-45.45\"/>\n<polygon fill=\"black\" stroke=\"black\" points=\"200.07,-46.88 201.05,-36.33 193.7,-43.96 200.07,-46.88\"/>\n</g>\n<!-- 7888 -->\n<g id=\"node7\" class=\"node\">\n<title>7888</title>\n<polygon fill=\"#c0c0c0\" stroke=\"black\" points=\"524,-36 470,-36 470,0 524,0 524,-36\"/>\n<text text-anchor=\"middle\" x=\"497\" y=\"-14.3\" font-family=\"Helvetica,sans-Serif\" font-size=\"14.00\">(...)</text>\n</g>\n<!-- 7887&#45;&gt;7888 -->\n<g id=\"edge6\" class=\"edge\">\n<title>7887&#45;&gt;7888</title>\n<path fill=\"none\" stroke=\"black\" d=\"M521.21,-71.8C517.34,-63.35 513.03,-53.95 509.13,-45.45\"/>\n<polygon fill=\"black\" stroke=\"black\" points=\"512.3,-43.96 504.95,-36.33 505.93,-46.88 512.3,-43.96\"/>\n</g>\n<!-- 8267 -->\n<g id=\"node8\" class=\"node\">\n<title>8267</title>\n<polygon fill=\"#c0c0c0\" stroke=\"black\" points=\"596,-36 542,-36 542,0 596,0 596,-36\"/>\n<text text-anchor=\"middle\" x=\"569\" y=\"-14.3\" font-family=\"Helvetica,sans-Serif\" font-size=\"14.00\">(...)</text>\n</g>\n<!-- 7887&#45;&gt;8267 -->\n<g id=\"edge7\" class=\"edge\">\n<title>7887&#45;&gt;8267</title>\n<path fill=\"none\" stroke=\"black\" d=\"M544.79,-71.8C548.66,-63.35 552.97,-53.95 556.87,-45.45\"/>\n<polygon fill=\"black\" stroke=\"black\" points=\"560.07,-46.88 561.05,-36.33 553.7,-43.96 560.07,-46.88\"/>\n</g>\n<!-- 8837 -->\n<g id=\"node10\" class=\"node\">\n<title>8837</title>\n<polygon fill=\"#f0b88f\" stroke=\"black\" points=\"1026.5,-125 733.5,-125 733.5,-72 1026.5,-72 1026.5,-125\"/>\n<text text-anchor=\"middle\" x=\"880\" y=\"-109.8\" font-family=\"Helvetica,sans-Serif\" font-size=\"14.00\">BorrowerAPR &lt;= 223.5</text>\n<text text-anchor=\"middle\" x=\"880\" y=\"-94.8\" font-family=\"Helvetica,sans-Serif\" font-size=\"14.00\">samples = 20.1%</text>\n<text text-anchor=\"middle\" x=\"880\" y=\"-79.8\" font-family=\"Helvetica,sans-Serif\" font-size=\"14.00\">value = [0.679, 0.263, 0.057, 0.0, 0.0, 0.0, 0.0]</text>\n</g>\n<!-- 8836&#45;&gt;8837 -->\n<g id=\"edge9\" class=\"edge\">\n<title>8836&#45;&gt;8837</title>\n<path fill=\"none\" stroke=\"black\" d=\"M884.23,-160.87C883.68,-152.89 883.06,-143.93 882.47,-135.38\"/>\n<polygon fill=\"black\" stroke=\"black\" points=\"885.96,-134.99 881.78,-125.25 878.97,-135.47 885.96,-134.99\"/>\n</g>\n<!-- 10476 -->\n<g id=\"node13\" class=\"node\">\n<title>10476</title>\n<polygon fill=\"#ebfcfc\" stroke=\"black\" points=\"1383,-125 1045,-125 1045,-72 1383,-72 1383,-125\"/>\n<text text-anchor=\"middle\" x=\"1214\" y=\"-109.8\" font-family=\"Helvetica,sans-Serif\" font-size=\"14.00\">BorrowerAPR &lt;= 1033.0</text>\n<text text-anchor=\"middle\" x=\"1214\" y=\"-94.8\" font-family=\"Helvetica,sans-Serif\" font-size=\"14.00\">samples = 46.7%</text>\n<text text-anchor=\"middle\" x=\"1214\" y=\"-79.8\" font-family=\"Helvetica,sans-Serif\" font-size=\"14.00\">value = [0.015, 0.0, 0.301, 0.373, 0.231, 0.073, 0.007]</text>\n</g>\n<!-- 8836&#45;&gt;10476 -->\n<g id=\"edge12\" class=\"edge\">\n<title>8836&#45;&gt;10476</title>\n<path fill=\"none\" stroke=\"black\" d=\"M982.19,-160.98C1021.66,-150.52 1067.49,-138.36 1107.92,-127.64\"/>\n<polygon fill=\"black\" stroke=\"black\" points=\"1109.04,-130.96 1117.81,-125.01 1107.24,-124.2 1109.04,-130.96\"/>\n</g>\n<!-- 8838 -->\n<g id=\"node11\" class=\"node\">\n<title>8838</title>\n<polygon fill=\"#c0c0c0\" stroke=\"black\" points=\"871,-36 817,-36 817,0 871,0 871,-36\"/>\n<text text-anchor=\"middle\" x=\"844\" y=\"-14.3\" font-family=\"Helvetica,sans-Serif\" font-size=\"14.00\">(...)</text>\n</g>\n<!-- 8837&#45;&gt;8838 -->\n<g id=\"edge10\" class=\"edge\">\n<title>8837&#45;&gt;8838</title>\n<path fill=\"none\" stroke=\"black\" d=\"M868.21,-71.8C864.34,-63.35 860.03,-53.95 856.13,-45.45\"/>\n<polygon fill=\"black\" stroke=\"black\" points=\"859.3,-43.96 851.95,-36.33 852.93,-46.88 859.3,-43.96\"/>\n</g>\n<!-- 8993 -->\n<g id=\"node12\" class=\"node\">\n<title>8993</title>\n<polygon fill=\"#c0c0c0\" stroke=\"black\" points=\"943,-36 889,-36 889,0 943,0 943,-36\"/>\n<text text-anchor=\"middle\" x=\"916\" y=\"-14.3\" font-family=\"Helvetica,sans-Serif\" font-size=\"14.00\">(...)</text>\n</g>\n<!-- 8837&#45;&gt;8993 -->\n<g id=\"edge11\" class=\"edge\">\n<title>8837&#45;&gt;8993</title>\n<path fill=\"none\" stroke=\"black\" d=\"M891.79,-71.8C895.66,-63.35 899.97,-53.95 903.87,-45.45\"/>\n<polygon fill=\"black\" stroke=\"black\" points=\"907.07,-46.88 908.05,-36.33 900.7,-43.96 907.07,-46.88\"/>\n</g>\n<!-- 10477 -->\n<g id=\"node14\" class=\"node\">\n<title>10477</title>\n<polygon fill=\"#c0c0c0\" stroke=\"black\" points=\"1205,-36 1151,-36 1151,0 1205,0 1205,-36\"/>\n<text text-anchor=\"middle\" x=\"1178\" y=\"-14.3\" font-family=\"Helvetica,sans-Serif\" font-size=\"14.00\">(...)</text>\n</g>\n<!-- 10476&#45;&gt;10477 -->\n<g id=\"edge13\" class=\"edge\">\n<title>10476&#45;&gt;10477</title>\n<path fill=\"none\" stroke=\"black\" d=\"M1202.21,-71.8C1198.34,-63.35 1194.03,-53.95 1190.13,-45.45\"/>\n<polygon fill=\"black\" stroke=\"black\" points=\"1193.3,-43.96 1185.95,-36.33 1186.93,-46.88 1193.3,-43.96\"/>\n</g>\n<!-- 13080 -->\n<g id=\"node15\" class=\"node\">\n<title>13080</title>\n<polygon fill=\"#c0c0c0\" stroke=\"black\" points=\"1277,-36 1223,-36 1223,0 1277,0 1277,-36\"/>\n<text text-anchor=\"middle\" x=\"1250\" y=\"-14.3\" font-family=\"Helvetica,sans-Serif\" font-size=\"14.00\">(...)</text>\n</g>\n<!-- 10476&#45;&gt;13080 -->\n<g id=\"edge14\" class=\"edge\">\n<title>10476&#45;&gt;13080</title>\n<path fill=\"none\" stroke=\"black\" d=\"M1225.79,-71.8C1229.66,-63.35 1233.97,-53.95 1237.87,-45.45\"/>\n<polygon fill=\"black\" stroke=\"black\" points=\"1241.07,-46.88 1242.05,-36.33 1234.7,-43.96 1241.07,-46.88\"/>\n</g>\n</g>\n</svg>\n"
          },
          "metadata": {}
        },
        {
          "output_type": "display_data",
          "data": {
            "text/plain": [
              "<graphviz.files.Source at 0x7ffb75272c40>"
            ],
            "image/svg+xml": "<?xml version=\"1.0\" encoding=\"UTF-8\" standalone=\"no\"?>\n<!DOCTYPE svg PUBLIC \"-//W3C//DTD SVG 1.1//EN\"\n \"http://www.w3.org/Graphics/SVG/1.1/DTD/svg11.dtd\">\n<!-- Generated by graphviz version 2.43.0 (0)\n -->\n<!-- Title: Tree Pages: 1 -->\n<svg width=\"1371pt\" height=\"311pt\"\n viewBox=\"0.00 0.00 1370.50 311.00\" xmlns=\"http://www.w3.org/2000/svg\" xmlns:xlink=\"http://www.w3.org/1999/xlink\">\n<g id=\"graph0\" class=\"graph\" transform=\"scale(1 1) rotate(0) translate(4 307)\">\n<title>Tree</title>\n<polygon fill=\"white\" stroke=\"transparent\" points=\"-4,4 -4,-307 1366.5,-307 1366.5,4 -4,4\"/>\n<!-- 0 -->\n<g id=\"node1\" class=\"node\">\n<title>0</title>\n<polygon fill=\"#f8fefe\" stroke=\"black\" points=\"828,-303 482,-303 482,-250 828,-250 828,-303\"/>\n<text text-anchor=\"middle\" x=\"655\" y=\"-287.8\" font-family=\"Helvetica,sans-Serif\" font-size=\"14.00\">EmploymentStatus &lt;= 0.5</text>\n<text text-anchor=\"middle\" x=\"655\" y=\"-272.8\" font-family=\"Helvetica,sans-Serif\" font-size=\"14.00\">samples = 100.0%</text>\n<text text-anchor=\"middle\" x=\"655\" y=\"-257.8\" font-family=\"Helvetica,sans-Serif\" font-size=\"14.00\">value = [0.17, 0.063, 0.186, 0.214, 0.168, 0.115, 0.084]</text>\n</g>\n<!-- 1 -->\n<g id=\"node2\" class=\"node\">\n<title>1</title>\n<polygon fill=\"#fbfefe\" stroke=\"black\" points=\"638.5,-214 307.5,-214 307.5,-161 638.5,-161 638.5,-214\"/>\n<text text-anchor=\"middle\" x=\"473\" y=\"-198.8\" font-family=\"Helvetica,sans-Serif\" font-size=\"14.00\">BorrowerAPR &lt;= 666.0</text>\n<text text-anchor=\"middle\" x=\"473\" y=\"-183.8\" font-family=\"Helvetica,sans-Serif\" font-size=\"14.00\">samples = 79.3%</text>\n<text text-anchor=\"middle\" x=\"473\" y=\"-168.8\" font-family=\"Helvetica,sans-Serif\" font-size=\"14.00\">value = [0.17, 0.061, 0.204, 0.22, 0.163, 0.11, 0.072]</text>\n</g>\n<!-- 0&#45;&gt;1 -->\n<g id=\"edge1\" class=\"edge\">\n<title>0&#45;&gt;1</title>\n<path fill=\"none\" stroke=\"black\" d=\"M601.38,-249.87C580.83,-240.04 557.2,-228.75 535.86,-218.55\"/>\n<polygon fill=\"black\" stroke=\"black\" points=\"537.08,-215.25 526.55,-214.1 534.07,-221.57 537.08,-215.25\"/>\n<text text-anchor=\"middle\" x=\"534.88\" y=\"-233.97\" font-family=\"Helvetica,sans-Serif\" font-size=\"14.00\">True</text>\n</g>\n<!-- 14588 -->\n<g id=\"node9\" class=\"node\">\n<title>14588</title>\n<polygon fill=\"#feffff\" stroke=\"black\" points=\"1010,-214 664,-214 664,-161 1010,-161 1010,-214\"/>\n<text text-anchor=\"middle\" x=\"837\" y=\"-198.8\" font-family=\"Helvetica,sans-Serif\" font-size=\"14.00\">Term &lt;= 1.5</text>\n<text text-anchor=\"middle\" x=\"837\" y=\"-183.8\" font-family=\"Helvetica,sans-Serif\" font-size=\"14.00\">samples = 20.7%</text>\n<text text-anchor=\"middle\" x=\"837\" y=\"-168.8\" font-family=\"Helvetica,sans-Serif\" font-size=\"14.00\">value = [0.167, 0.07, 0.117, 0.192, 0.186, 0.134, 0.134]</text>\n</g>\n<!-- 0&#45;&gt;14588 -->\n<g id=\"edge8\" class=\"edge\">\n<title>0&#45;&gt;14588</title>\n<path fill=\"none\" stroke=\"black\" d=\"M708.62,-249.87C729.17,-240.04 752.8,-228.75 774.14,-218.55\"/>\n<polygon fill=\"black\" stroke=\"black\" points=\"775.93,-221.57 783.45,-214.1 772.92,-215.25 775.93,-221.57\"/>\n<text text-anchor=\"middle\" x=\"775.12\" y=\"-233.97\" font-family=\"Helvetica,sans-Serif\" font-size=\"14.00\">False</text>\n</g>\n<!-- 2 -->\n<g id=\"node3\" class=\"node\">\n<title>2</title>\n<polygon fill=\"#f0b68c\" stroke=\"black\" points=\"286,-125 0,-125 0,-72 286,-72 286,-125\"/>\n<text text-anchor=\"middle\" x=\"143\" y=\"-109.8\" font-family=\"Helvetica,sans-Serif\" font-size=\"14.00\">DebtToIncomeRatio &lt;= 19.5</text>\n<text text-anchor=\"middle\" x=\"143\" y=\"-94.8\" font-family=\"Helvetica,sans-Serif\" font-size=\"14.00\">samples = 18.6%</text>\n<text text-anchor=\"middle\" x=\"143\" y=\"-79.8\" font-family=\"Helvetica,sans-Serif\" font-size=\"14.00\">value = [0.69, 0.261, 0.049, 0.0, 0.0, 0.0, 0.0]</text>\n</g>\n<!-- 1&#45;&gt;2 -->\n<g id=\"edge2\" class=\"edge\">\n<title>1&#45;&gt;2</title>\n<path fill=\"none\" stroke=\"black\" d=\"M376.22,-160.98C336.43,-150.49 290.21,-138.31 249.47,-127.57\"/>\n<polygon fill=\"black\" stroke=\"black\" points=\"250.34,-124.18 239.78,-125.01 248.56,-130.95 250.34,-124.18\"/>\n</g>\n<!-- 1601 -->\n<g id=\"node6\" class=\"node\">\n<title>1601</title>\n<polygon fill=\"#f5fefe\" stroke=\"black\" points=\"642,-125 304,-125 304,-72 642,-72 642,-125\"/>\n<text text-anchor=\"middle\" x=\"473\" y=\"-109.8\" font-family=\"Helvetica,sans-Serif\" font-size=\"14.00\">LoanOriginalAmount &lt;= 402.5</text>\n<text text-anchor=\"middle\" x=\"473\" y=\"-94.8\" font-family=\"Helvetica,sans-Serif\" font-size=\"14.00\">samples = 60.7%</text>\n<text text-anchor=\"middle\" x=\"473\" y=\"-79.8\" font-family=\"Helvetica,sans-Serif\" font-size=\"14.00\">value = [0.012, 0.0, 0.251, 0.288, 0.213, 0.143, 0.093]</text>\n</g>\n<!-- 1&#45;&gt;1601 -->\n<g id=\"edge5\" class=\"edge\">\n<title>1&#45;&gt;1601</title>\n<path fill=\"none\" stroke=\"black\" d=\"M473,-160.87C473,-152.89 473,-143.93 473,-135.38\"/>\n<polygon fill=\"black\" stroke=\"black\" points=\"476.5,-135.25 473,-125.25 469.5,-135.25 476.5,-135.25\"/>\n</g>\n<!-- 3 -->\n<g id=\"node4\" class=\"node\">\n<title>3</title>\n<polygon fill=\"#c0c0c0\" stroke=\"black\" points=\"134,-36 80,-36 80,0 134,0 134,-36\"/>\n<text text-anchor=\"middle\" x=\"107\" y=\"-14.3\" font-family=\"Helvetica,sans-Serif\" font-size=\"14.00\">(...)</text>\n</g>\n<!-- 2&#45;&gt;3 -->\n<g id=\"edge3\" class=\"edge\">\n<title>2&#45;&gt;3</title>\n<path fill=\"none\" stroke=\"black\" d=\"M131.21,-71.8C127.34,-63.35 123.03,-53.95 119.13,-45.45\"/>\n<polygon fill=\"black\" stroke=\"black\" points=\"122.3,-43.96 114.95,-36.33 115.93,-46.88 122.3,-43.96\"/>\n</g>\n<!-- 1126 -->\n<g id=\"node5\" class=\"node\">\n<title>1126</title>\n<polygon fill=\"#c0c0c0\" stroke=\"black\" points=\"206,-36 152,-36 152,0 206,0 206,-36\"/>\n<text text-anchor=\"middle\" x=\"179\" y=\"-14.3\" font-family=\"Helvetica,sans-Serif\" font-size=\"14.00\">(...)</text>\n</g>\n<!-- 2&#45;&gt;1126 -->\n<g id=\"edge4\" class=\"edge\">\n<title>2&#45;&gt;1126</title>\n<path fill=\"none\" stroke=\"black\" d=\"M154.79,-71.8C158.66,-63.35 162.97,-53.95 166.87,-45.45\"/>\n<polygon fill=\"black\" stroke=\"black\" points=\"170.07,-46.88 171.05,-36.33 163.7,-43.96 170.07,-46.88\"/>\n</g>\n<!-- 1602 -->\n<g id=\"node7\" class=\"node\">\n<title>1602</title>\n<polygon fill=\"#c0c0c0\" stroke=\"black\" points=\"464,-36 410,-36 410,0 464,0 464,-36\"/>\n<text text-anchor=\"middle\" x=\"437\" y=\"-14.3\" font-family=\"Helvetica,sans-Serif\" font-size=\"14.00\">(...)</text>\n</g>\n<!-- 1601&#45;&gt;1602 -->\n<g id=\"edge6\" class=\"edge\">\n<title>1601&#45;&gt;1602</title>\n<path fill=\"none\" stroke=\"black\" d=\"M461.21,-71.8C457.34,-63.35 453.03,-53.95 449.13,-45.45\"/>\n<polygon fill=\"black\" stroke=\"black\" points=\"452.3,-43.96 444.95,-36.33 445.93,-46.88 452.3,-43.96\"/>\n</g>\n<!-- 5143 -->\n<g id=\"node8\" class=\"node\">\n<title>5143</title>\n<polygon fill=\"#c0c0c0\" stroke=\"black\" points=\"536,-36 482,-36 482,0 536,0 536,-36\"/>\n<text text-anchor=\"middle\" x=\"509\" y=\"-14.3\" font-family=\"Helvetica,sans-Serif\" font-size=\"14.00\">(...)</text>\n</g>\n<!-- 1601&#45;&gt;5143 -->\n<g id=\"edge7\" class=\"edge\">\n<title>1601&#45;&gt;5143</title>\n<path fill=\"none\" stroke=\"black\" d=\"M484.79,-71.8C488.66,-63.35 492.97,-53.95 496.87,-45.45\"/>\n<polygon fill=\"black\" stroke=\"black\" points=\"500.07,-46.88 501.05,-36.33 493.7,-43.96 500.07,-46.88\"/>\n</g>\n<!-- 14589 -->\n<g id=\"node10\" class=\"node\">\n<title>14589</title>\n<polygon fill=\"#fcfdff\" stroke=\"black\" points=\"1013.5,-125 660.5,-125 660.5,-72 1013.5,-72 1013.5,-125\"/>\n<text text-anchor=\"middle\" x=\"837\" y=\"-109.8\" font-family=\"Helvetica,sans-Serif\" font-size=\"14.00\">EmploymentStatus &lt;= 1.5</text>\n<text text-anchor=\"middle\" x=\"837\" y=\"-94.8\" font-family=\"Helvetica,sans-Serif\" font-size=\"14.00\">samples = 17.8%</text>\n<text text-anchor=\"middle\" x=\"837\" y=\"-79.8\" font-family=\"Helvetica,sans-Serif\" font-size=\"14.00\">value = [0.171, 0.079, 0.105, 0.171, 0.183, 0.136, 0.156]</text>\n</g>\n<!-- 14588&#45;&gt;14589 -->\n<g id=\"edge9\" class=\"edge\">\n<title>14588&#45;&gt;14589</title>\n<path fill=\"none\" stroke=\"black\" d=\"M837,-160.87C837,-152.89 837,-143.93 837,-135.38\"/>\n<polygon fill=\"black\" stroke=\"black\" points=\"840.5,-135.25 837,-125.25 833.5,-135.25 840.5,-135.25\"/>\n</g>\n<!-- 19760 -->\n<g id=\"node13\" class=\"node\">\n<title>19760</title>\n<polygon fill=\"#e4fbfb\" stroke=\"black\" points=\"1362.5,-125 1031.5,-125 1031.5,-72 1362.5,-72 1362.5,-125\"/>\n<text text-anchor=\"middle\" x=\"1197\" y=\"-109.8\" font-family=\"Helvetica,sans-Serif\" font-size=\"14.00\">Unnamed: 0 &lt;= 103842.0</text>\n<text text-anchor=\"middle\" x=\"1197\" y=\"-94.8\" font-family=\"Helvetica,sans-Serif\" font-size=\"14.00\">samples = 2.8%</text>\n<text text-anchor=\"middle\" x=\"1197\" y=\"-79.8\" font-family=\"Helvetica,sans-Serif\" font-size=\"14.00\">value = [0.14, 0.019, 0.194, 0.316, 0.206, 0.125, 0.0]</text>\n</g>\n<!-- 14588&#45;&gt;19760 -->\n<g id=\"edge12\" class=\"edge\">\n<title>14588&#45;&gt;19760</title>\n<path fill=\"none\" stroke=\"black\" d=\"M942.58,-160.98C986.26,-150.43 1037.04,-138.16 1081.7,-127.36\"/>\n<polygon fill=\"black\" stroke=\"black\" points=\"1082.52,-130.77 1091.42,-125.01 1080.88,-123.96 1082.52,-130.77\"/>\n</g>\n<!-- 14590 -->\n<g id=\"node11\" class=\"node\">\n<title>14590</title>\n<polygon fill=\"#c0c0c0\" stroke=\"black\" points=\"828,-36 774,-36 774,0 828,0 828,-36\"/>\n<text text-anchor=\"middle\" x=\"801\" y=\"-14.3\" font-family=\"Helvetica,sans-Serif\" font-size=\"14.00\">(...)</text>\n</g>\n<!-- 14589&#45;&gt;14590 -->\n<g id=\"edge10\" class=\"edge\">\n<title>14589&#45;&gt;14590</title>\n<path fill=\"none\" stroke=\"black\" d=\"M825.21,-71.8C821.34,-63.35 817.03,-53.95 813.13,-45.45\"/>\n<polygon fill=\"black\" stroke=\"black\" points=\"816.3,-43.96 808.95,-36.33 809.93,-46.88 816.3,-43.96\"/>\n</g>\n<!-- 17575 -->\n<g id=\"node12\" class=\"node\">\n<title>17575</title>\n<polygon fill=\"#c0c0c0\" stroke=\"black\" points=\"900,-36 846,-36 846,0 900,0 900,-36\"/>\n<text text-anchor=\"middle\" x=\"873\" y=\"-14.3\" font-family=\"Helvetica,sans-Serif\" font-size=\"14.00\">(...)</text>\n</g>\n<!-- 14589&#45;&gt;17575 -->\n<g id=\"edge11\" class=\"edge\">\n<title>14589&#45;&gt;17575</title>\n<path fill=\"none\" stroke=\"black\" d=\"M848.79,-71.8C852.66,-63.35 856.97,-53.95 860.87,-45.45\"/>\n<polygon fill=\"black\" stroke=\"black\" points=\"864.07,-46.88 865.05,-36.33 857.7,-43.96 864.07,-46.88\"/>\n</g>\n<!-- 19761 -->\n<g id=\"node14\" class=\"node\">\n<title>19761</title>\n<polygon fill=\"#c0c0c0\" stroke=\"black\" points=\"1188,-36 1134,-36 1134,0 1188,0 1188,-36\"/>\n<text text-anchor=\"middle\" x=\"1161\" y=\"-14.3\" font-family=\"Helvetica,sans-Serif\" font-size=\"14.00\">(...)</text>\n</g>\n<!-- 19760&#45;&gt;19761 -->\n<g id=\"edge13\" class=\"edge\">\n<title>19760&#45;&gt;19761</title>\n<path fill=\"none\" stroke=\"black\" d=\"M1185.21,-71.8C1181.34,-63.35 1177.03,-53.95 1173.13,-45.45\"/>\n<polygon fill=\"black\" stroke=\"black\" points=\"1176.3,-43.96 1168.95,-36.33 1169.93,-46.88 1176.3,-43.96\"/>\n</g>\n<!-- 20634 -->\n<g id=\"node15\" class=\"node\">\n<title>20634</title>\n<polygon fill=\"#c0c0c0\" stroke=\"black\" points=\"1260,-36 1206,-36 1206,0 1260,0 1260,-36\"/>\n<text text-anchor=\"middle\" x=\"1233\" y=\"-14.3\" font-family=\"Helvetica,sans-Serif\" font-size=\"14.00\">(...)</text>\n</g>\n<!-- 19760&#45;&gt;20634 -->\n<g id=\"edge14\" class=\"edge\">\n<title>19760&#45;&gt;20634</title>\n<path fill=\"none\" stroke=\"black\" d=\"M1208.79,-71.8C1212.66,-63.35 1216.97,-53.95 1220.87,-45.45\"/>\n<polygon fill=\"black\" stroke=\"black\" points=\"1224.07,-46.88 1225.05,-36.33 1217.7,-43.96 1224.07,-46.88\"/>\n</g>\n</g>\n</svg>\n"
          },
          "metadata": {}
        }
      ]
    },
    {
      "cell_type": "code",
      "source": [
        "param_dist = {'n_estimators': randint(50,500),\n",
        "              'max_depth': randint(1,20)}\n",
        "\n",
        "# Create a random forest classifier\n",
        "rf = RandomForestClassifier()\n",
        "\n",
        "# Use random search to find the best hyperparameters\n",
        "rand_search = RandomizedSearchCV(rf, \n",
        "                                 param_distributions = param_dist, \n",
        "                                 n_iter=5, \n",
        "                                 cv=5)\n",
        "\n",
        "# Fit the random search object to the data\n",
        "rand_search.fit(X_train, y_train)"
      ],
      "metadata": {
        "colab": {
          "base_uri": "https://localhost:8080/",
          "height": 140
        },
        "id": "quuHWTJn-uC4",
        "outputId": "ac6b3208-2ddd-4644-b2ee-b12307e760d9"
      },
      "execution_count": 30,
      "outputs": [
        {
          "output_type": "execute_result",
          "data": {
            "text/plain": [
              "RandomizedSearchCV(cv=5, estimator=RandomForestClassifier(), n_iter=5,\n",
              "                   param_distributions={'max_depth': <scipy.stats._distn_infrastructure.rv_discrete_frozen object at 0x7ffb7634e3a0>,\n",
              "                                        'n_estimators': <scipy.stats._distn_infrastructure.rv_discrete_frozen object at 0x7ffb7634e370>})"
            ],
            "text/html": [
              "<style>#sk-container-id-4 {color: black;background-color: white;}#sk-container-id-4 pre{padding: 0;}#sk-container-id-4 div.sk-toggleable {background-color: white;}#sk-container-id-4 label.sk-toggleable__label {cursor: pointer;display: block;width: 100%;margin-bottom: 0;padding: 0.3em;box-sizing: border-box;text-align: center;}#sk-container-id-4 label.sk-toggleable__label-arrow:before {content: \"▸\";float: left;margin-right: 0.25em;color: #696969;}#sk-container-id-4 label.sk-toggleable__label-arrow:hover:before {color: black;}#sk-container-id-4 div.sk-estimator:hover label.sk-toggleable__label-arrow:before {color: black;}#sk-container-id-4 div.sk-toggleable__content {max-height: 0;max-width: 0;overflow: hidden;text-align: left;background-color: #f0f8ff;}#sk-container-id-4 div.sk-toggleable__content pre {margin: 0.2em;color: black;border-radius: 0.25em;background-color: #f0f8ff;}#sk-container-id-4 input.sk-toggleable__control:checked~div.sk-toggleable__content {max-height: 200px;max-width: 100%;overflow: auto;}#sk-container-id-4 input.sk-toggleable__control:checked~label.sk-toggleable__label-arrow:before {content: \"▾\";}#sk-container-id-4 div.sk-estimator input.sk-toggleable__control:checked~label.sk-toggleable__label {background-color: #d4ebff;}#sk-container-id-4 div.sk-label input.sk-toggleable__control:checked~label.sk-toggleable__label {background-color: #d4ebff;}#sk-container-id-4 input.sk-hidden--visually {border: 0;clip: rect(1px 1px 1px 1px);clip: rect(1px, 1px, 1px, 1px);height: 1px;margin: -1px;overflow: hidden;padding: 0;position: absolute;width: 1px;}#sk-container-id-4 div.sk-estimator {font-family: monospace;background-color: #f0f8ff;border: 1px dotted black;border-radius: 0.25em;box-sizing: border-box;margin-bottom: 0.5em;}#sk-container-id-4 div.sk-estimator:hover {background-color: #d4ebff;}#sk-container-id-4 div.sk-parallel-item::after {content: \"\";width: 100%;border-bottom: 1px solid gray;flex-grow: 1;}#sk-container-id-4 div.sk-label:hover label.sk-toggleable__label {background-color: #d4ebff;}#sk-container-id-4 div.sk-serial::before {content: \"\";position: absolute;border-left: 1px solid gray;box-sizing: border-box;top: 0;bottom: 0;left: 50%;z-index: 0;}#sk-container-id-4 div.sk-serial {display: flex;flex-direction: column;align-items: center;background-color: white;padding-right: 0.2em;padding-left: 0.2em;position: relative;}#sk-container-id-4 div.sk-item {position: relative;z-index: 1;}#sk-container-id-4 div.sk-parallel {display: flex;align-items: stretch;justify-content: center;background-color: white;position: relative;}#sk-container-id-4 div.sk-item::before, #sk-container-id-4 div.sk-parallel-item::before {content: \"\";position: absolute;border-left: 1px solid gray;box-sizing: border-box;top: 0;bottom: 0;left: 50%;z-index: -1;}#sk-container-id-4 div.sk-parallel-item {display: flex;flex-direction: column;z-index: 1;position: relative;background-color: white;}#sk-container-id-4 div.sk-parallel-item:first-child::after {align-self: flex-end;width: 50%;}#sk-container-id-4 div.sk-parallel-item:last-child::after {align-self: flex-start;width: 50%;}#sk-container-id-4 div.sk-parallel-item:only-child::after {width: 0;}#sk-container-id-4 div.sk-dashed-wrapped {border: 1px dashed gray;margin: 0 0.4em 0.5em 0.4em;box-sizing: border-box;padding-bottom: 0.4em;background-color: white;}#sk-container-id-4 div.sk-label label {font-family: monospace;font-weight: bold;display: inline-block;line-height: 1.2em;}#sk-container-id-4 div.sk-label-container {text-align: center;}#sk-container-id-4 div.sk-container {/* jupyter's `normalize.less` sets `[hidden] { display: none; }` but bootstrap.min.css set `[hidden] { display: none !important; }` so we also need the `!important` here to be able to override the default hidden behavior on the sphinx rendered scikit-learn.org. See: https://github.com/scikit-learn/scikit-learn/issues/21755 */display: inline-block !important;position: relative;}#sk-container-id-4 div.sk-text-repr-fallback {display: none;}</style><div id=\"sk-container-id-4\" class=\"sk-top-container\"><div class=\"sk-text-repr-fallback\"><pre>RandomizedSearchCV(cv=5, estimator=RandomForestClassifier(), n_iter=5,\n",
              "                   param_distributions={&#x27;max_depth&#x27;: &lt;scipy.stats._distn_infrastructure.rv_discrete_frozen object at 0x7ffb7634e3a0&gt;,\n",
              "                                        &#x27;n_estimators&#x27;: &lt;scipy.stats._distn_infrastructure.rv_discrete_frozen object at 0x7ffb7634e370&gt;})</pre><b>In a Jupyter environment, please rerun this cell to show the HTML representation or trust the notebook. <br />On GitHub, the HTML representation is unable to render, please try loading this page with nbviewer.org.</b></div><div class=\"sk-container\" hidden><div class=\"sk-item sk-dashed-wrapped\"><div class=\"sk-label-container\"><div class=\"sk-label sk-toggleable\"><input class=\"sk-toggleable__control sk-hidden--visually\" id=\"sk-estimator-id-6\" type=\"checkbox\" ><label for=\"sk-estimator-id-6\" class=\"sk-toggleable__label sk-toggleable__label-arrow\">RandomizedSearchCV</label><div class=\"sk-toggleable__content\"><pre>RandomizedSearchCV(cv=5, estimator=RandomForestClassifier(), n_iter=5,\n",
              "                   param_distributions={&#x27;max_depth&#x27;: &lt;scipy.stats._distn_infrastructure.rv_discrete_frozen object at 0x7ffb7634e3a0&gt;,\n",
              "                                        &#x27;n_estimators&#x27;: &lt;scipy.stats._distn_infrastructure.rv_discrete_frozen object at 0x7ffb7634e370&gt;})</pre></div></div></div><div class=\"sk-parallel\"><div class=\"sk-parallel-item\"><div class=\"sk-item\"><div class=\"sk-label-container\"><div class=\"sk-label sk-toggleable\"><input class=\"sk-toggleable__control sk-hidden--visually\" id=\"sk-estimator-id-7\" type=\"checkbox\" ><label for=\"sk-estimator-id-7\" class=\"sk-toggleable__label sk-toggleable__label-arrow\">estimator: RandomForestClassifier</label><div class=\"sk-toggleable__content\"><pre>RandomForestClassifier()</pre></div></div></div><div class=\"sk-serial\"><div class=\"sk-item\"><div class=\"sk-estimator sk-toggleable\"><input class=\"sk-toggleable__control sk-hidden--visually\" id=\"sk-estimator-id-8\" type=\"checkbox\" ><label for=\"sk-estimator-id-8\" class=\"sk-toggleable__label sk-toggleable__label-arrow\">RandomForestClassifier</label><div class=\"sk-toggleable__content\"><pre>RandomForestClassifier()</pre></div></div></div></div></div></div></div></div></div></div>"
            ]
          },
          "metadata": {},
          "execution_count": 30
        }
      ]
    },
    {
      "cell_type": "code",
      "source": [
        "# Create a variable for the best model\n",
        "best_rf = rand_search.best_estimator_\n",
        "\n",
        "# Print the best hyperparameters\n",
        "print('Best hyperparameters:',  rand_search.best_params_)"
      ],
      "metadata": {
        "colab": {
          "base_uri": "https://localhost:8080/"
        },
        "id": "yCucvZIZ-qEy",
        "outputId": "66800998-31b3-4207-ff12-9eb30eb55bd7"
      },
      "execution_count": 31,
      "outputs": [
        {
          "output_type": "stream",
          "name": "stdout",
          "text": [
            "Best hyperparameters: {'max_depth': 17, 'n_estimators': 300}\n"
          ]
        }
      ]
    },
    {
      "cell_type": "code",
      "source": [
        "# Generate predictions with the best model\n",
        "y_pred = best_rf.predict(X_test)\n",
        "\n",
        "# Create the confusion matrix\n",
        "cm = confusion_matrix(y_test, y_pred)\n",
        "\n",
        "ConfusionMatrixDisplay(confusion_matrix=cm).plot();"
      ],
      "metadata": {
        "colab": {
          "base_uri": "https://localhost:8080/",
          "height": 296
        },
        "id": "zTeE0R0T-Gwh",
        "outputId": "3bfd84c8-1b8e-4a54-b0a5-660fb4d236ea"
      },
      "execution_count": 38,
      "outputs": [
        {
          "output_type": "display_data",
          "data": {
            "text/plain": [
              "<Figure size 1080x720 with 0 Axes>"
            ]
          },
          "metadata": {}
        },
        {
          "output_type": "display_data",
          "data": {
            "text/plain": [
              "<Figure size 432x288 with 2 Axes>"
            ],
            "image/png": "[encoded data removed]"
          },
          "metadata": {
            "needs_background": "light"
          }
        }
      ]
    },
    {
      "cell_type": "code",
      "source": [
        "# Create a series containing feature importances from the model and feature names from the training data\n",
        "feature_importances = pd.Series(best_rf.feature_importances_, index=X_train.columns).sort_values(ascending=False)\n",
        "\n",
        "# Plot a simple bar chart\n",
        "plt.figure(figsize = (15,10))\n",
        "feature_importances.plot.bar();"
      ],
      "metadata": {
        "colab": {
          "base_uri": "https://localhost:8080/",
          "height": 695
        },
        "id": "PDA_HCBa-MbE",
        "outputId": "efafc9be-c93b-4262-8c7b-67b3765eead8"
      },
      "execution_count": 37,
      "outputs": [
        {
          "output_type": "display_data",
          "data": {
            "text/plain": [
              "<Figure size 1080x720 with 1 Axes>"
            ],
            "image/png": "[encoded data removed]"
          },
          "metadata": {
            "needs_background": "light"
          }
        }
      ]
    }
  ]
}